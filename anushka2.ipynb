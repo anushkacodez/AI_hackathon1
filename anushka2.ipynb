{
 "cells": [
  {
   "cell_type": "markdown",
   "id": "4f7baf40",
   "metadata": {
    "papermill": {
     "duration": 0.010276,
     "end_time": "2023-06-23T12:53:34.766153",
     "exception": false,
     "start_time": "2023-06-23T12:53:34.755877",
     "status": "completed"
    },
    "tags": []
   },
   "source": [
    "Hey I am Anushka and these are the models I implemented.\n",
    "\n",
    "\n",
    "* Linear Regression\n",
    "* Ridge and Lasso Regression both (improved a little bit not much)\n",
    "* KNN (not as good as before)\n",
    "\n",
    "* SVR (best one so far)\n",
    "so i implemented Grid Search for the best parameters value in SVR -->best result so far consistently\n",
    "tried cross validation score as well for this (did not work as good as before)\n",
    "\n",
    "* Gaussian Process Regression(not as different)\n",
    "* Bayesian Ridge (not as different)\n",
    "* Random Forest (okayish)\n",
    "* Decision Tree(worse than before)\n",
    "* Gradient Boosting Regressor\n",
    "\n",
    "You can view the models applied by going in the save version history of the notebook.\n",
    "\n",
    "During the end i made another notebook for faster processing and tried to change the parameters in SVR model for better result with grid search included. \n"
   ]
  },
  {
   "cell_type": "code",
   "execution_count": 1,
   "id": "ee4e1cc7",
   "metadata": {
    "_cell_guid": "b1076dfc-b9ad-4769-8c92-a6c4dae69d19",
    "_uuid": "8f2839f25d086af736a60e9eeb907d3b93b6e0e5",
    "execution": {
     "iopub.execute_input": "2023-06-23T12:53:34.786240Z",
     "iopub.status.busy": "2023-06-23T12:53:34.785823Z",
     "iopub.status.idle": "2023-06-23T12:53:36.848074Z",
     "shell.execute_reply": "2023-06-23T12:53:36.846679Z"
    },
    "papermill": {
     "duration": 2.075982,
     "end_time": "2023-06-23T12:53:36.851447",
     "exception": false,
     "start_time": "2023-06-23T12:53:34.775465",
     "status": "completed"
    },
    "tags": []
   },
   "outputs": [
    {
     "name": "stdout",
     "output_type": "stream",
     "text": [
      "/kaggle/input/iitgai/Train_Data.csv\n",
      "/kaggle/input/iitgai/Test_Data1 (1).csv\n"
     ]
    }
   ],
   "source": [
    "# This Python 3 environment comes with many helpful analytics libraries installed\n",
    "# It is defined by the kaggle/python Docker image: https://github.com/kaggle/docker-python\n",
    "# For example, here's several helpful packages to load\n",
    "\n",
    "import numpy as np # linear algebra\n",
    "import pandas as pd # data processing, CSV file I/O (e.g. pd.read_csv)\n",
    "from sklearn.metrics import r2_score\n",
    "from sklearn.metrics import mean_squared_error\n",
    "from sklearn.linear_model import LinearRegression\n",
    "from sklearn.linear_model import Ridge\n",
    "from sklearn.neighbors import KNeighborsRegressor\n",
    "from sklearn.svm import SVR\n",
    "from sklearn.linear_model import Lasso\n",
    "from sklearn.model_selection import GridSearchCV, cross_val_score\n",
    "from sklearn.model_selection import train_test_split\n",
    "from sklearn.gaussian_process import GaussianProcessRegressor\n",
    "from sklearn.gaussian_process.kernels import RBF\n",
    "from sklearn.linear_model import BayesianRidge\n",
    "\n",
    "\n",
    "# Input data files are available in the read-only \"../input/\" directory\n",
    "# For example, running this (by clicking run or pressing Shift+Enter) will list all files under the input directory\n",
    "\n",
    "import os\n",
    "for dirname, _, filenames in os.walk('/kaggle/input'):\n",
    "    for filename in filenames:\n",
    "        print(os.path.join(dirname, filename))\n",
    "\n",
    "# You can write up to 20GB to the current directory (/kaggle/working/) that gets preserved as output when you create a version using \"Save & Run All\" \n",
    "# You can also write temporary files to /kaggle/temp/, but they won't be saved outside of the current session"
   ]
  },
  {
   "cell_type": "code",
   "execution_count": 2,
   "id": "91ee4a68",
   "metadata": {
    "execution": {
     "iopub.execute_input": "2023-06-23T12:53:36.872387Z",
     "iopub.status.busy": "2023-06-23T12:53:36.871963Z",
     "iopub.status.idle": "2023-06-23T12:53:36.902825Z",
     "shell.execute_reply": "2023-06-23T12:53:36.900782Z"
    },
    "papermill": {
     "duration": 0.04528,
     "end_time": "2023-06-23T12:53:36.906168",
     "exception": false,
     "start_time": "2023-06-23T12:53:36.860888",
     "status": "completed"
    },
    "tags": []
   },
   "outputs": [],
   "source": [
    "df=pd.read_csv('//kaggle/input/iitgai/Train_Data.csv')"
   ]
  },
  {
   "cell_type": "code",
   "execution_count": 3,
   "id": "a11e35cc",
   "metadata": {
    "execution": {
     "iopub.execute_input": "2023-06-23T12:53:36.930088Z",
     "iopub.status.busy": "2023-06-23T12:53:36.928350Z",
     "iopub.status.idle": "2023-06-23T12:53:36.939675Z",
     "shell.execute_reply": "2023-06-23T12:53:36.938483Z"
    },
    "papermill": {
     "duration": 0.026447,
     "end_time": "2023-06-23T12:53:36.942286",
     "exception": false,
     "start_time": "2023-06-23T12:53:36.915839",
     "status": "completed"
    },
    "tags": []
   },
   "outputs": [
    {
     "data": {
      "text/plain": [
       "(3132, 9)"
      ]
     },
     "execution_count": 3,
     "metadata": {},
     "output_type": "execute_result"
    }
   ],
   "source": [
    "df.shape"
   ]
  },
  {
   "cell_type": "markdown",
   "id": "61cb870b",
   "metadata": {
    "papermill": {
     "duration": 0.011063,
     "end_time": "2023-06-23T12:53:36.967634",
     "exception": false,
     "start_time": "2023-06-23T12:53:36.956571",
     "status": "completed"
    },
    "tags": []
   },
   "source": [
    "dropping null rows"
   ]
  },
  {
   "cell_type": "code",
   "execution_count": 4,
   "id": "72890ea4",
   "metadata": {
    "execution": {
     "iopub.execute_input": "2023-06-23T12:53:36.988692Z",
     "iopub.status.busy": "2023-06-23T12:53:36.988273Z",
     "iopub.status.idle": "2023-06-23T12:53:36.999122Z",
     "shell.execute_reply": "2023-06-23T12:53:36.997384Z"
    },
    "papermill": {
     "duration": 0.025537,
     "end_time": "2023-06-23T12:53:37.003135",
     "exception": false,
     "start_time": "2023-06-23T12:53:36.977598",
     "status": "completed"
    },
    "tags": []
   },
   "outputs": [],
   "source": [
    "df=df.dropna()"
   ]
  },
  {
   "cell_type": "code",
   "execution_count": 5,
   "id": "cc5e5fb8",
   "metadata": {
    "execution": {
     "iopub.execute_input": "2023-06-23T12:53:37.024989Z",
     "iopub.status.busy": "2023-06-23T12:53:37.024261Z",
     "iopub.status.idle": "2023-06-23T12:53:37.070081Z",
     "shell.execute_reply": "2023-06-23T12:53:37.068677Z"
    },
    "papermill": {
     "duration": 0.060327,
     "end_time": "2023-06-23T12:53:37.073085",
     "exception": false,
     "start_time": "2023-06-23T12:53:37.012758",
     "status": "completed"
    },
    "tags": []
   },
   "outputs": [
    {
     "data": {
      "text/html": [
       "<div>\n",
       "<style scoped>\n",
       "    .dataframe tbody tr th:only-of-type {\n",
       "        vertical-align: middle;\n",
       "    }\n",
       "\n",
       "    .dataframe tbody tr th {\n",
       "        vertical-align: top;\n",
       "    }\n",
       "\n",
       "    .dataframe thead th {\n",
       "        text-align: right;\n",
       "    }\n",
       "</style>\n",
       "<table border=\"1\" class=\"dataframe\">\n",
       "  <thead>\n",
       "    <tr style=\"text-align: right;\">\n",
       "      <th></th>\n",
       "      <th>A</th>\n",
       "      <th>B</th>\n",
       "      <th>C</th>\n",
       "      <th>D</th>\n",
       "      <th>E</th>\n",
       "      <th>F</th>\n",
       "      <th>G</th>\n",
       "      <th>H</th>\n",
       "      <th>Target</th>\n",
       "    </tr>\n",
       "  </thead>\n",
       "  <tbody>\n",
       "    <tr>\n",
       "      <th>0</th>\n",
       "      <td>F</td>\n",
       "      <td>0.615</td>\n",
       "      <td>0.455</td>\n",
       "      <td>0.135</td>\n",
       "      <td>1.0590</td>\n",
       "      <td>0.4735</td>\n",
       "      <td>0.2630</td>\n",
       "      <td>0.274</td>\n",
       "      <td>9</td>\n",
       "    </tr>\n",
       "    <tr>\n",
       "      <th>1</th>\n",
       "      <td>F</td>\n",
       "      <td>0.515</td>\n",
       "      <td>0.395</td>\n",
       "      <td>0.140</td>\n",
       "      <td>0.6860</td>\n",
       "      <td>0.2810</td>\n",
       "      <td>0.1255</td>\n",
       "      <td>0.220</td>\n",
       "      <td>12</td>\n",
       "    </tr>\n",
       "    <tr>\n",
       "      <th>2</th>\n",
       "      <td>M</td>\n",
       "      <td>0.660</td>\n",
       "      <td>0.530</td>\n",
       "      <td>0.175</td>\n",
       "      <td>1.5830</td>\n",
       "      <td>0.7395</td>\n",
       "      <td>0.3505</td>\n",
       "      <td>0.405</td>\n",
       "      <td>10</td>\n",
       "    </tr>\n",
       "    <tr>\n",
       "      <th>3</th>\n",
       "      <td>M</td>\n",
       "      <td>0.455</td>\n",
       "      <td>0.365</td>\n",
       "      <td>0.095</td>\n",
       "      <td>0.5140</td>\n",
       "      <td>0.2245</td>\n",
       "      <td>0.1010</td>\n",
       "      <td>0.150</td>\n",
       "      <td>15</td>\n",
       "    </tr>\n",
       "    <tr>\n",
       "      <th>4</th>\n",
       "      <td>M</td>\n",
       "      <td>0.495</td>\n",
       "      <td>0.400</td>\n",
       "      <td>0.155</td>\n",
       "      <td>0.8085</td>\n",
       "      <td>0.2345</td>\n",
       "      <td>0.1155</td>\n",
       "      <td>0.350</td>\n",
       "      <td>6</td>\n",
       "    </tr>\n",
       "  </tbody>\n",
       "</table>\n",
       "</div>"
      ],
      "text/plain": [
       "   A      B      C      D       E       F       G      H  Target\n",
       "0  F  0.615  0.455  0.135  1.0590  0.4735  0.2630  0.274       9\n",
       "1  F  0.515  0.395  0.140  0.6860  0.2810  0.1255  0.220      12\n",
       "2  M  0.660  0.530  0.175  1.5830  0.7395  0.3505  0.405      10\n",
       "3  M  0.455  0.365  0.095  0.5140  0.2245  0.1010  0.150      15\n",
       "4  M  0.495  0.400  0.155  0.8085  0.2345  0.1155  0.350       6"
      ]
     },
     "execution_count": 5,
     "metadata": {},
     "output_type": "execute_result"
    }
   ],
   "source": [
    "df.head()"
   ]
  },
  {
   "cell_type": "code",
   "execution_count": 6,
   "id": "a6c11193",
   "metadata": {
    "execution": {
     "iopub.execute_input": "2023-06-23T12:53:37.094728Z",
     "iopub.status.busy": "2023-06-23T12:53:37.094289Z",
     "iopub.status.idle": "2023-06-23T12:53:37.102055Z",
     "shell.execute_reply": "2023-06-23T12:53:37.100700Z"
    },
    "papermill": {
     "duration": 0.021667,
     "end_time": "2023-06-23T12:53:37.104798",
     "exception": false,
     "start_time": "2023-06-23T12:53:37.083131",
     "status": "completed"
    },
    "tags": []
   },
   "outputs": [
    {
     "data": {
      "text/plain": [
       "Index(['A', 'B', 'C', 'D', 'E', 'F', 'G', 'H', 'Target'], dtype='object')"
      ]
     },
     "execution_count": 6,
     "metadata": {},
     "output_type": "execute_result"
    }
   ],
   "source": [
    "df.columns"
   ]
  },
  {
   "cell_type": "code",
   "execution_count": 7,
   "id": "191e1fd8",
   "metadata": {
    "execution": {
     "iopub.execute_input": "2023-06-23T12:53:37.128169Z",
     "iopub.status.busy": "2023-06-23T12:53:37.127381Z",
     "iopub.status.idle": "2023-06-23T12:53:37.138708Z",
     "shell.execute_reply": "2023-06-23T12:53:37.136633Z"
    },
    "papermill": {
     "duration": 0.027695,
     "end_time": "2023-06-23T12:53:37.142872",
     "exception": false,
     "start_time": "2023-06-23T12:53:37.115177",
     "status": "completed"
    },
    "tags": []
   },
   "outputs": [],
   "source": [
    "from sklearn import preprocessing\n",
    "\n",
    "label_encoder = preprocessing.LabelEncoder()\n",
    "  \n",
    "# Encode labels in column 'species'.\n",
    "df['A']= label_encoder.fit_transform(df['A'])"
   ]
  },
  {
   "cell_type": "code",
   "execution_count": 8,
   "id": "dcef507f",
   "metadata": {
    "execution": {
     "iopub.execute_input": "2023-06-23T12:53:37.168393Z",
     "iopub.status.busy": "2023-06-23T12:53:37.167957Z",
     "iopub.status.idle": "2023-06-23T12:53:37.173383Z",
     "shell.execute_reply": "2023-06-23T12:53:37.172432Z"
    },
    "papermill": {
     "duration": 0.020496,
     "end_time": "2023-06-23T12:53:37.176634",
     "exception": false,
     "start_time": "2023-06-23T12:53:37.156138",
     "status": "completed"
    },
    "tags": []
   },
   "outputs": [],
   "source": [
    "y_train=df['Target']"
   ]
  },
  {
   "cell_type": "markdown",
   "id": "a9527045",
   "metadata": {
    "papermill": {
     "duration": 0.010811,
     "end_time": "2023-06-23T12:53:37.202411",
     "exception": false,
     "start_time": "2023-06-23T12:53:37.191600",
     "status": "completed"
    },
    "tags": []
   },
   "source": [
    "Drawing a heat map to get which column as the most correlation and which has the least"
   ]
  },
  {
   "cell_type": "code",
   "execution_count": 9,
   "id": "7cdb6666",
   "metadata": {
    "execution": {
     "iopub.execute_input": "2023-06-23T12:53:37.231475Z",
     "iopub.status.busy": "2023-06-23T12:53:37.230730Z",
     "iopub.status.idle": "2023-06-23T12:53:38.077502Z",
     "shell.execute_reply": "2023-06-23T12:53:38.076119Z"
    },
    "papermill": {
     "duration": 0.865778,
     "end_time": "2023-06-23T12:53:38.080370",
     "exception": false,
     "start_time": "2023-06-23T12:53:37.214592",
     "status": "completed"
    },
    "tags": []
   },
   "outputs": [
    {
     "data": {
      "text/plain": [
       "<Axes: >"
      ]
     },
     "execution_count": 9,
     "metadata": {},
     "output_type": "execute_result"
    },
    {
     "data": {
      "image/png": "[encoded data removed]",
      "text/plain": [
       "<Figure size 640x480 with 2 Axes>"
      ]
     },
     "metadata": {},
     "output_type": "display_data"
    }
   ],
   "source": [
    "import seaborn as sns\n",
    "corr_matrix=df.corr()\n",
    "sns.heatmap(data=corr_matrix)"
   ]
  },
  {
   "cell_type": "markdown",
   "id": "22aee0f1",
   "metadata": {
    "papermill": {
     "duration": 0.010418,
     "end_time": "2023-06-23T12:53:38.101931",
     "exception": false,
     "start_time": "2023-06-23T12:53:38.091513",
     "status": "completed"
    },
    "tags": []
   },
   "source": [
    "A has the least correlation. So dropping the column A."
   ]
  },
  {
   "cell_type": "code",
   "execution_count": 10,
   "id": "71445c6b",
   "metadata": {
    "execution": {
     "iopub.execute_input": "2023-06-23T12:53:38.125754Z",
     "iopub.status.busy": "2023-06-23T12:53:38.125323Z",
     "iopub.status.idle": "2023-06-23T12:53:38.134444Z",
     "shell.execute_reply": "2023-06-23T12:53:38.133307Z"
    },
    "papermill": {
     "duration": 0.024505,
     "end_time": "2023-06-23T12:53:38.137038",
     "exception": false,
     "start_time": "2023-06-23T12:53:38.112533",
     "status": "completed"
    },
    "tags": []
   },
   "outputs": [],
   "source": [
    "new_x_train=df.drop(['A','Target'],axis=1)"
   ]
  },
  {
   "cell_type": "code",
   "execution_count": 11,
   "id": "ff8838eb",
   "metadata": {
    "execution": {
     "iopub.execute_input": "2023-06-23T12:53:38.159144Z",
     "iopub.status.busy": "2023-06-23T12:53:38.158717Z",
     "iopub.status.idle": "2023-06-23T12:53:38.181787Z",
     "shell.execute_reply": "2023-06-23T12:53:38.180604Z"
    },
    "papermill": {
     "duration": 0.037416,
     "end_time": "2023-06-23T12:53:38.184616",
     "exception": false,
     "start_time": "2023-06-23T12:53:38.147200",
     "status": "completed"
    },
    "tags": []
   },
   "outputs": [
    {
     "data": {
      "text/html": [
       "<div>\n",
       "<style scoped>\n",
       "    .dataframe tbody tr th:only-of-type {\n",
       "        vertical-align: middle;\n",
       "    }\n",
       "\n",
       "    .dataframe tbody tr th {\n",
       "        vertical-align: top;\n",
       "    }\n",
       "\n",
       "    .dataframe thead th {\n",
       "        text-align: right;\n",
       "    }\n",
       "</style>\n",
       "<table border=\"1\" class=\"dataframe\">\n",
       "  <thead>\n",
       "    <tr style=\"text-align: right;\">\n",
       "      <th></th>\n",
       "      <th>B</th>\n",
       "      <th>C</th>\n",
       "      <th>D</th>\n",
       "      <th>E</th>\n",
       "      <th>F</th>\n",
       "      <th>G</th>\n",
       "      <th>H</th>\n",
       "    </tr>\n",
       "  </thead>\n",
       "  <tbody>\n",
       "    <tr>\n",
       "      <th>0</th>\n",
       "      <td>0.615</td>\n",
       "      <td>0.455</td>\n",
       "      <td>0.135</td>\n",
       "      <td>1.0590</td>\n",
       "      <td>0.4735</td>\n",
       "      <td>0.2630</td>\n",
       "      <td>0.274</td>\n",
       "    </tr>\n",
       "    <tr>\n",
       "      <th>1</th>\n",
       "      <td>0.515</td>\n",
       "      <td>0.395</td>\n",
       "      <td>0.140</td>\n",
       "      <td>0.6860</td>\n",
       "      <td>0.2810</td>\n",
       "      <td>0.1255</td>\n",
       "      <td>0.220</td>\n",
       "    </tr>\n",
       "    <tr>\n",
       "      <th>2</th>\n",
       "      <td>0.660</td>\n",
       "      <td>0.530</td>\n",
       "      <td>0.175</td>\n",
       "      <td>1.5830</td>\n",
       "      <td>0.7395</td>\n",
       "      <td>0.3505</td>\n",
       "      <td>0.405</td>\n",
       "    </tr>\n",
       "    <tr>\n",
       "      <th>3</th>\n",
       "      <td>0.455</td>\n",
       "      <td>0.365</td>\n",
       "      <td>0.095</td>\n",
       "      <td>0.5140</td>\n",
       "      <td>0.2245</td>\n",
       "      <td>0.1010</td>\n",
       "      <td>0.150</td>\n",
       "    </tr>\n",
       "    <tr>\n",
       "      <th>4</th>\n",
       "      <td>0.495</td>\n",
       "      <td>0.400</td>\n",
       "      <td>0.155</td>\n",
       "      <td>0.8085</td>\n",
       "      <td>0.2345</td>\n",
       "      <td>0.1155</td>\n",
       "      <td>0.350</td>\n",
       "    </tr>\n",
       "    <tr>\n",
       "      <th>...</th>\n",
       "      <td>...</td>\n",
       "      <td>...</td>\n",
       "      <td>...</td>\n",
       "      <td>...</td>\n",
       "      <td>...</td>\n",
       "      <td>...</td>\n",
       "      <td>...</td>\n",
       "    </tr>\n",
       "    <tr>\n",
       "      <th>3127</th>\n",
       "      <td>0.490</td>\n",
       "      <td>0.400</td>\n",
       "      <td>0.115</td>\n",
       "      <td>0.5690</td>\n",
       "      <td>0.2560</td>\n",
       "      <td>0.1325</td>\n",
       "      <td>0.145</td>\n",
       "    </tr>\n",
       "    <tr>\n",
       "      <th>3128</th>\n",
       "      <td>0.670</td>\n",
       "      <td>0.550</td>\n",
       "      <td>0.190</td>\n",
       "      <td>1.3905</td>\n",
       "      <td>0.5425</td>\n",
       "      <td>0.3035</td>\n",
       "      <td>0.400</td>\n",
       "    </tr>\n",
       "    <tr>\n",
       "      <th>3129</th>\n",
       "      <td>0.510</td>\n",
       "      <td>0.395</td>\n",
       "      <td>0.125</td>\n",
       "      <td>0.5805</td>\n",
       "      <td>0.2440</td>\n",
       "      <td>0.1335</td>\n",
       "      <td>0.188</td>\n",
       "    </tr>\n",
       "    <tr>\n",
       "      <th>3130</th>\n",
       "      <td>0.575</td>\n",
       "      <td>0.465</td>\n",
       "      <td>0.120</td>\n",
       "      <td>1.0535</td>\n",
       "      <td>0.5160</td>\n",
       "      <td>0.2185</td>\n",
       "      <td>0.235</td>\n",
       "    </tr>\n",
       "    <tr>\n",
       "      <th>3131</th>\n",
       "      <td>0.595</td>\n",
       "      <td>0.475</td>\n",
       "      <td>0.160</td>\n",
       "      <td>1.1405</td>\n",
       "      <td>0.5470</td>\n",
       "      <td>0.2310</td>\n",
       "      <td>0.271</td>\n",
       "    </tr>\n",
       "  </tbody>\n",
       "</table>\n",
       "<p>3132 rows × 7 columns</p>\n",
       "</div>"
      ],
      "text/plain": [
       "          B      C      D       E       F       G      H\n",
       "0     0.615  0.455  0.135  1.0590  0.4735  0.2630  0.274\n",
       "1     0.515  0.395  0.140  0.6860  0.2810  0.1255  0.220\n",
       "2     0.660  0.530  0.175  1.5830  0.7395  0.3505  0.405\n",
       "3     0.455  0.365  0.095  0.5140  0.2245  0.1010  0.150\n",
       "4     0.495  0.400  0.155  0.8085  0.2345  0.1155  0.350\n",
       "...     ...    ...    ...     ...     ...     ...    ...\n",
       "3127  0.490  0.400  0.115  0.5690  0.2560  0.1325  0.145\n",
       "3128  0.670  0.550  0.190  1.3905  0.5425  0.3035  0.400\n",
       "3129  0.510  0.395  0.125  0.5805  0.2440  0.1335  0.188\n",
       "3130  0.575  0.465  0.120  1.0535  0.5160  0.2185  0.235\n",
       "3131  0.595  0.475  0.160  1.1405  0.5470  0.2310  0.271\n",
       "\n",
       "[3132 rows x 7 columns]"
      ]
     },
     "execution_count": 11,
     "metadata": {},
     "output_type": "execute_result"
    }
   ],
   "source": [
    "new_x_train"
   ]
  },
  {
   "cell_type": "code",
   "execution_count": 12,
   "id": "e39d95b5",
   "metadata": {
    "execution": {
     "iopub.execute_input": "2023-06-23T12:53:38.208391Z",
     "iopub.status.busy": "2023-06-23T12:53:38.207986Z",
     "iopub.status.idle": "2023-06-23T12:53:38.218826Z",
     "shell.execute_reply": "2023-06-23T12:53:38.217441Z"
    },
    "papermill": {
     "duration": 0.026427,
     "end_time": "2023-06-23T12:53:38.221882",
     "exception": false,
     "start_time": "2023-06-23T12:53:38.195455",
     "status": "completed"
    },
    "tags": []
   },
   "outputs": [
    {
     "data": {
      "text/plain": [
       "0        9\n",
       "1       12\n",
       "2       10\n",
       "3       15\n",
       "4        6\n",
       "        ..\n",
       "3127     9\n",
       "3128    12\n",
       "3129    11\n",
       "3130     9\n",
       "3131     6\n",
       "Name: Target, Length: 3132, dtype: int64"
      ]
     },
     "execution_count": 12,
     "metadata": {},
     "output_type": "execute_result"
    }
   ],
   "source": [
    "y_train"
   ]
  },
  {
   "cell_type": "code",
   "execution_count": 13,
   "id": "d5d463fe",
   "metadata": {
    "execution": {
     "iopub.execute_input": "2023-06-23T12:53:38.246549Z",
     "iopub.status.busy": "2023-06-23T12:53:38.246146Z",
     "iopub.status.idle": "2023-06-23T12:53:38.251622Z",
     "shell.execute_reply": "2023-06-23T12:53:38.250456Z"
    },
    "papermill": {
     "duration": 0.020854,
     "end_time": "2023-06-23T12:53:38.253910",
     "exception": false,
     "start_time": "2023-06-23T12:53:38.233056",
     "status": "completed"
    },
    "tags": []
   },
   "outputs": [],
   "source": [
    "from sklearn.model_selection import GridSearchCV"
   ]
  },
  {
   "cell_type": "code",
   "execution_count": 14,
   "id": "4798d652",
   "metadata": {
    "execution": {
     "iopub.execute_input": "2023-06-23T12:53:38.278699Z",
     "iopub.status.busy": "2023-06-23T12:53:38.278306Z",
     "iopub.status.idle": "2023-06-23T12:53:38.283561Z",
     "shell.execute_reply": "2023-06-23T12:53:38.282298Z"
    },
    "papermill": {
     "duration": 0.020352,
     "end_time": "2023-06-23T12:53:38.285903",
     "exception": false,
     "start_time": "2023-06-23T12:53:38.265551",
     "status": "completed"
    },
    "tags": []
   },
   "outputs": [],
   "source": [
    "from sklearn import svm"
   ]
  },
  {
   "cell_type": "code",
   "execution_count": 15,
   "id": "63faae86",
   "metadata": {
    "execution": {
     "iopub.execute_input": "2023-06-23T12:53:38.311635Z",
     "iopub.status.busy": "2023-06-23T12:53:38.311235Z",
     "iopub.status.idle": "2023-06-23T12:57:51.657969Z",
     "shell.execute_reply": "2023-06-23T12:57:51.656551Z"
    },
    "papermill": {
     "duration": 253.364213,
     "end_time": "2023-06-23T12:57:51.661376",
     "exception": false,
     "start_time": "2023-06-23T12:53:38.297163",
     "status": "completed"
    },
    "tags": []
   },
   "outputs": [],
   "source": [
    "new_X_train, new_X_test, new_Y_train, new_Y_test=train_test_split(new_x_train, y_train, test_size=0.3)\n",
    "\n",
    "svr = svm.SVR()\n",
    "\n",
    "param_grid = {\n",
    "    'C': [0.1, 0.01, 1, 10, 100, 1000],               \n",
    "    'epsilon': [0.1 ,0.2, 0.3, 0.01, 1, 0.001],\n",
    "    'kernel': ['rbf', 'linear'],\n",
    "    'gamma': ['scale', 'auto']\n",
    "}\n",
    "\n",
    "grid_search = GridSearchCV(svr, param_grid, cv=6, scoring='neg_mean_squared_error')\n",
    "grid_search.fit(new_X_train, new_Y_train)\n",
    "model2 = grid_search.best_estimator_\n",
    "\n",
    "new_Y_pred=model2.predict(new_X_test)"
   ]
  },
  {
   "cell_type": "code",
   "execution_count": 16,
   "id": "fee811f8",
   "metadata": {
    "execution": {
     "iopub.execute_input": "2023-06-23T12:57:51.687317Z",
     "iopub.status.busy": "2023-06-23T12:57:51.685889Z",
     "iopub.status.idle": "2023-06-23T12:57:51.694340Z",
     "shell.execute_reply": "2023-06-23T12:57:51.693058Z"
    },
    "papermill": {
     "duration": 0.024588,
     "end_time": "2023-06-23T12:57:51.697143",
     "exception": false,
     "start_time": "2023-06-23T12:57:51.672555",
     "status": "completed"
    },
    "tags": []
   },
   "outputs": [
    {
     "name": "stdout",
     "output_type": "stream",
     "text": [
      "2.2111012124119105\n"
     ]
    }
   ],
   "source": [
    "error2= np.sqrt(mean_squared_error(new_Y_test, new_Y_pred))\n",
    "print(error2)"
   ]
  },
  {
   "cell_type": "code",
   "execution_count": 17,
   "id": "ee2ea952",
   "metadata": {
    "execution": {
     "iopub.execute_input": "2023-06-23T12:57:51.721074Z",
     "iopub.status.busy": "2023-06-23T12:57:51.720637Z",
     "iopub.status.idle": "2023-06-23T12:57:51.725865Z",
     "shell.execute_reply": "2023-06-23T12:57:51.724668Z"
    },
    "papermill": {
     "duration": 0.021336,
     "end_time": "2023-06-23T12:57:51.729473",
     "exception": false,
     "start_time": "2023-06-23T12:57:51.708137",
     "status": "completed"
    },
    "tags": []
   },
   "outputs": [],
   "source": [
    "#r2_score(new_Y_test, new_Y_pred)"
   ]
  },
  {
   "cell_type": "code",
   "execution_count": 18,
   "id": "f11862dd",
   "metadata": {
    "execution": {
     "iopub.execute_input": "2023-06-23T12:57:51.754617Z",
     "iopub.status.busy": "2023-06-23T12:57:51.754206Z",
     "iopub.status.idle": "2023-06-23T12:57:51.773094Z",
     "shell.execute_reply": "2023-06-23T12:57:51.771235Z"
    },
    "papermill": {
     "duration": 0.03512,
     "end_time": "2023-06-23T12:57:51.776326",
     "exception": false,
     "start_time": "2023-06-23T12:57:51.741206",
     "status": "completed"
    },
    "tags": []
   },
   "outputs": [],
   "source": [
    "testdata=pd.read_csv(\"/kaggle/input/iitgai/Test_Data1 (1).csv\")"
   ]
  },
  {
   "cell_type": "code",
   "execution_count": 19,
   "id": "643cd5f0",
   "metadata": {
    "execution": {
     "iopub.execute_input": "2023-06-23T12:57:51.801171Z",
     "iopub.status.busy": "2023-06-23T12:57:51.800517Z",
     "iopub.status.idle": "2023-06-23T12:57:51.822380Z",
     "shell.execute_reply": "2023-06-23T12:57:51.820465Z"
    },
    "papermill": {
     "duration": 0.037699,
     "end_time": "2023-06-23T12:57:51.825365",
     "exception": false,
     "start_time": "2023-06-23T12:57:51.787666",
     "status": "completed"
    },
    "tags": []
   },
   "outputs": [
    {
     "data": {
      "text/html": [
       "<div>\n",
       "<style scoped>\n",
       "    .dataframe tbody tr th:only-of-type {\n",
       "        vertical-align: middle;\n",
       "    }\n",
       "\n",
       "    .dataframe tbody tr th {\n",
       "        vertical-align: top;\n",
       "    }\n",
       "\n",
       "    .dataframe thead th {\n",
       "        text-align: right;\n",
       "    }\n",
       "</style>\n",
       "<table border=\"1\" class=\"dataframe\">\n",
       "  <thead>\n",
       "    <tr style=\"text-align: right;\">\n",
       "      <th></th>\n",
       "      <th>Index</th>\n",
       "      <th>A</th>\n",
       "      <th>B</th>\n",
       "      <th>C</th>\n",
       "      <th>D</th>\n",
       "      <th>E</th>\n",
       "      <th>F</th>\n",
       "      <th>G</th>\n",
       "      <th>H</th>\n",
       "    </tr>\n",
       "  </thead>\n",
       "  <tbody>\n",
       "    <tr>\n",
       "      <th>0</th>\n",
       "      <td>866</td>\n",
       "      <td>M</td>\n",
       "      <td>0.605</td>\n",
       "      <td>0.455</td>\n",
       "      <td>0.160</td>\n",
       "      <td>1.1035</td>\n",
       "      <td>0.4210</td>\n",
       "      <td>0.3015</td>\n",
       "      <td>0.325</td>\n",
       "    </tr>\n",
       "    <tr>\n",
       "      <th>1</th>\n",
       "      <td>1483</td>\n",
       "      <td>M</td>\n",
       "      <td>0.590</td>\n",
       "      <td>0.440</td>\n",
       "      <td>0.150</td>\n",
       "      <td>0.8725</td>\n",
       "      <td>0.3870</td>\n",
       "      <td>0.2150</td>\n",
       "      <td>0.245</td>\n",
       "    </tr>\n",
       "    <tr>\n",
       "      <th>2</th>\n",
       "      <td>599</td>\n",
       "      <td>F</td>\n",
       "      <td>0.560</td>\n",
       "      <td>0.445</td>\n",
       "      <td>0.195</td>\n",
       "      <td>0.9810</td>\n",
       "      <td>0.3050</td>\n",
       "      <td>0.2245</td>\n",
       "      <td>0.335</td>\n",
       "    </tr>\n",
       "    <tr>\n",
       "      <th>3</th>\n",
       "      <td>1702</td>\n",
       "      <td>F</td>\n",
       "      <td>0.635</td>\n",
       "      <td>0.490</td>\n",
       "      <td>0.170</td>\n",
       "      <td>1.2615</td>\n",
       "      <td>0.5385</td>\n",
       "      <td>0.2665</td>\n",
       "      <td>0.380</td>\n",
       "    </tr>\n",
       "    <tr>\n",
       "      <th>4</th>\n",
       "      <td>670</td>\n",
       "      <td>M</td>\n",
       "      <td>0.475</td>\n",
       "      <td>0.385</td>\n",
       "      <td>0.145</td>\n",
       "      <td>0.6175</td>\n",
       "      <td>0.2350</td>\n",
       "      <td>0.1080</td>\n",
       "      <td>0.215</td>\n",
       "    </tr>\n",
       "  </tbody>\n",
       "</table>\n",
       "</div>"
      ],
      "text/plain": [
       "   Index  A      B      C      D       E       F       G      H\n",
       "0    866  M  0.605  0.455  0.160  1.1035  0.4210  0.3015  0.325\n",
       "1   1483  M  0.590  0.440  0.150  0.8725  0.3870  0.2150  0.245\n",
       "2    599  F  0.560  0.445  0.195  0.9810  0.3050  0.2245  0.335\n",
       "3   1702  F  0.635  0.490  0.170  1.2615  0.5385  0.2665  0.380\n",
       "4    670  M  0.475  0.385  0.145  0.6175  0.2350  0.1080  0.215"
      ]
     },
     "execution_count": 19,
     "metadata": {},
     "output_type": "execute_result"
    }
   ],
   "source": [
    "testdata.head()"
   ]
  },
  {
   "cell_type": "code",
   "execution_count": 20,
   "id": "ebb16789",
   "metadata": {
    "execution": {
     "iopub.execute_input": "2023-06-23T12:57:51.850290Z",
     "iopub.status.busy": "2023-06-23T12:57:51.849827Z",
     "iopub.status.idle": "2023-06-23T12:57:51.856686Z",
     "shell.execute_reply": "2023-06-23T12:57:51.855383Z"
    },
    "papermill": {
     "duration": 0.023573,
     "end_time": "2023-06-23T12:57:51.860115",
     "exception": false,
     "start_time": "2023-06-23T12:57:51.836542",
     "status": "completed"
    },
    "tags": []
   },
   "outputs": [],
   "source": [
    "testdata['A']= label_encoder.fit_transform(testdata['A'])"
   ]
  },
  {
   "cell_type": "code",
   "execution_count": 21,
   "id": "5d2db1d1",
   "metadata": {
    "execution": {
     "iopub.execute_input": "2023-06-23T12:57:51.884474Z",
     "iopub.status.busy": "2023-06-23T12:57:51.884093Z",
     "iopub.status.idle": "2023-06-23T12:57:51.955181Z",
     "shell.execute_reply": "2023-06-23T12:57:51.953613Z"
    },
    "papermill": {
     "duration": 0.087015,
     "end_time": "2023-06-23T12:57:51.958490",
     "exception": false,
     "start_time": "2023-06-23T12:57:51.871475",
     "status": "completed"
    },
    "tags": []
   },
   "outputs": [],
   "source": [
    "Index=testdata['Index']\n",
    "tweakedx=testdata.drop(['A','Index'],axis=1)\n",
    "y_pred3=model2.predict(tweakedx)"
   ]
  },
  {
   "cell_type": "code",
   "execution_count": 22,
   "id": "c34d8317",
   "metadata": {
    "execution": {
     "iopub.execute_input": "2023-06-23T12:57:51.984132Z",
     "iopub.status.busy": "2023-06-23T12:57:51.983712Z",
     "iopub.status.idle": "2023-06-23T12:57:51.992818Z",
     "shell.execute_reply": "2023-06-23T12:57:51.991569Z"
    },
    "papermill": {
     "duration": 0.024822,
     "end_time": "2023-06-23T12:57:51.995185",
     "exception": false,
     "start_time": "2023-06-23T12:57:51.970363",
     "status": "completed"
    },
    "tags": []
   },
   "outputs": [],
   "source": [
    "result=pd.DataFrame(Index, columns=['Index'])\n",
    "result['Target']=y_pred3"
   ]
  },
  {
   "cell_type": "code",
   "execution_count": 23,
   "id": "5ea51227",
   "metadata": {
    "execution": {
     "iopub.execute_input": "2023-06-23T12:57:52.019698Z",
     "iopub.status.busy": "2023-06-23T12:57:52.019099Z",
     "iopub.status.idle": "2023-06-23T12:57:52.032991Z",
     "shell.execute_reply": "2023-06-23T12:57:52.031789Z"
    },
    "papermill": {
     "duration": 0.02969,
     "end_time": "2023-06-23T12:57:52.035925",
     "exception": false,
     "start_time": "2023-06-23T12:57:52.006235",
     "status": "completed"
    },
    "tags": []
   },
   "outputs": [
    {
     "data": {
      "text/html": [
       "<div>\n",
       "<style scoped>\n",
       "    .dataframe tbody tr th:only-of-type {\n",
       "        vertical-align: middle;\n",
       "    }\n",
       "\n",
       "    .dataframe tbody tr th {\n",
       "        vertical-align: top;\n",
       "    }\n",
       "\n",
       "    .dataframe thead th {\n",
       "        text-align: right;\n",
       "    }\n",
       "</style>\n",
       "<table border=\"1\" class=\"dataframe\">\n",
       "  <thead>\n",
       "    <tr style=\"text-align: right;\">\n",
       "      <th></th>\n",
       "      <th>Index</th>\n",
       "      <th>Target</th>\n",
       "    </tr>\n",
       "  </thead>\n",
       "  <tbody>\n",
       "    <tr>\n",
       "      <th>0</th>\n",
       "      <td>866</td>\n",
       "      <td>11.757690</td>\n",
       "    </tr>\n",
       "    <tr>\n",
       "      <th>1</th>\n",
       "      <td>1483</td>\n",
       "      <td>9.610138</td>\n",
       "    </tr>\n",
       "    <tr>\n",
       "      <th>2</th>\n",
       "      <td>599</td>\n",
       "      <td>14.919541</td>\n",
       "    </tr>\n",
       "    <tr>\n",
       "      <th>3</th>\n",
       "      <td>1702</td>\n",
       "      <td>11.622089</td>\n",
       "    </tr>\n",
       "    <tr>\n",
       "      <th>4</th>\n",
       "      <td>670</td>\n",
       "      <td>11.475556</td>\n",
       "    </tr>\n",
       "    <tr>\n",
       "      <th>...</th>\n",
       "      <td>...</td>\n",
       "      <td>...</td>\n",
       "    </tr>\n",
       "    <tr>\n",
       "      <th>1040</th>\n",
       "      <td>532</td>\n",
       "      <td>9.524076</td>\n",
       "    </tr>\n",
       "    <tr>\n",
       "      <th>1041</th>\n",
       "      <td>3417</td>\n",
       "      <td>9.275729</td>\n",
       "    </tr>\n",
       "    <tr>\n",
       "      <th>1042</th>\n",
       "      <td>1505</td>\n",
       "      <td>11.534183</td>\n",
       "    </tr>\n",
       "    <tr>\n",
       "      <th>1043</th>\n",
       "      <td>2245</td>\n",
       "      <td>11.165798</td>\n",
       "    </tr>\n",
       "    <tr>\n",
       "      <th>1044</th>\n",
       "      <td>2428</td>\n",
       "      <td>9.220370</td>\n",
       "    </tr>\n",
       "  </tbody>\n",
       "</table>\n",
       "<p>1045 rows × 2 columns</p>\n",
       "</div>"
      ],
      "text/plain": [
       "      Index     Target\n",
       "0       866  11.757690\n",
       "1      1483   9.610138\n",
       "2       599  14.919541\n",
       "3      1702  11.622089\n",
       "4       670  11.475556\n",
       "...     ...        ...\n",
       "1040    532   9.524076\n",
       "1041   3417   9.275729\n",
       "1042   1505  11.534183\n",
       "1043   2245  11.165798\n",
       "1044   2428   9.220370\n",
       "\n",
       "[1045 rows x 2 columns]"
      ]
     },
     "execution_count": 23,
     "metadata": {},
     "output_type": "execute_result"
    }
   ],
   "source": [
    "result"
   ]
  },
  {
   "cell_type": "code",
   "execution_count": 24,
   "id": "b59cc740",
   "metadata": {
    "execution": {
     "iopub.execute_input": "2023-06-23T12:57:52.060227Z",
     "iopub.status.busy": "2023-06-23T12:57:52.059799Z",
     "iopub.status.idle": "2023-06-23T12:57:52.075899Z",
     "shell.execute_reply": "2023-06-23T12:57:52.074574Z"
    },
    "papermill": {
     "duration": 0.031592,
     "end_time": "2023-06-23T12:57:52.078969",
     "exception": false,
     "start_time": "2023-06-23T12:57:52.047377",
     "status": "completed"
    },
    "tags": []
   },
   "outputs": [],
   "source": [
    "result.to_csv('2057_Anushka.csv', index=False)"
   ]
  }
 ],
 "metadata": {
  "kernelspec": {
   "display_name": "Python 3",
   "language": "python",
   "name": "python3"
  },
  "language_info": {
   "codemirror_mode": {
    "name": "ipython",
    "version": 3
   },
   "file_extension": ".py",
   "mimetype": "text/x-python",
   "name": "python",
   "nbconvert_exporter": "python",
   "pygments_lexer": "ipython3",
   "version": "3.10.10"
  },
  "papermill": {
   "default_parameters": {},
   "duration": 272.939793,
   "end_time": "2023-06-23T12:57:53.217783",
   "environment_variables": {},
   "exception": null,
   "input_path": "__notebook__.ipynb",
   "output_path": "__notebook__.ipynb",
   "parameters": {},
   "start_time": "2023-06-23T12:53:20.277990",
   "version": "2.4.0"
  }
 },
 "nbformat": 4,
 "nbformat_minor": 5
}
